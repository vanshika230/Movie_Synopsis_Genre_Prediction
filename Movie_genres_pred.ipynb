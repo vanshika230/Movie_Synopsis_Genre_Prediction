{
  "nbformat": 4,
  "nbformat_minor": 0,
  "metadata": {
    "kernelspec": {
      "display_name": "Python 3",
      "language": "python",
      "name": "python3"
    },
    "language_info": {
      "codemirror_mode": {
        "name": "ipython",
        "version": 3
      },
      "file_extension": ".py",
      "mimetype": "text/x-python",
      "name": "python",
      "nbconvert_exporter": "python",
      "pygments_lexer": "ipython3",
      "version": "3.8.3"
    },
    "colab": {
      "name": "radix_challenge.ipynb",
      "provenance": [],
      "include_colab_link": true
    }
  },
  "cells": [
    {
      "cell_type": "markdown",
      "metadata": {
        "id": "view-in-github",
        "colab_type": "text"
      },
      "source": [
        "<a href=\"https://colab.research.google.com/github/opsabarsec/NLP--film-genres-from-synopsis/blob/main/radix_challenge.ipynb\" target=\"_parent\"><img src=\"https://colab.research.google.com/assets/colab-badge.svg\" alt=\"Open In Colab\"/></a>"
      ]
    },
    {
      "cell_type": "markdown",
      "metadata": {
        "id": "d6kB19cOKYjr"
      },
      "source": [
        "# Automatic assignment of genres from movie synopsis using supervised machine learning"
      ]
    },
    {
      "cell_type": "markdown",
      "metadata": {
        "id": "rEXqk7gVKYjz"
      },
      "source": [
        "## 1. Import libraries and load data"
      ]
    },
    {
      "cell_type": "code",
      "metadata": {
        "_cell_guid": "b1076dfc-b9ad-4769-8c92-a6c4dae69d19",
        "_uuid": "8f2839f25d086af736a60e9eeb907d3b93b6e0e5",
        "id": "ca4CabSbKYj1"
      },
      "source": [
        "#packages to load\n",
        "\n",
        "import numpy as np # linear algebra\n",
        "import pandas as pd # data processing, CSV file I/O (e.g. pd.read_csv)\n",
        "\n",
        "# NLP libraries\n",
        "\n",
        "from textblob import TextBlob, Word\n",
        "import nltk\n",
        "import re\n",
        "import csv\n",
        "from sklearn.preprocessing import MultiLabelBinarizer\n",
        "\n",
        "# Deep learning libraries\n",
        "\n",
        "from keras.models import Model\n",
        "from keras.preprocessing.sequence import pad_sequences\n",
        "from keras.layers import Dense, Embedding, Input, LSTM, GlobalMaxPool1D, Dropout\n",
        "from keras.preprocessing.text import Tokenizer"
      ],
      "execution_count": null,
      "outputs": []
    },
    {
      "cell_type": "code",
      "metadata": {
        "_cell_guid": "79c7e3d0-c299-4dcb-8224-4455121ee9b0",
        "_uuid": "d629ff2d2480ee46fbb7e2d37f6b5fab8052498a",
        "id": "7bBgajuqKYj2"
      },
      "source": [
        "# load data\n",
        "train= pd.read_csv('train.csv')\n",
        "test=pd.read_csv('test.csv')"
      ],
      "execution_count": null,
      "outputs": []
    },
    {
      "cell_type": "markdown",
      "metadata": {
        "id": "LhjxQG-XKYj3"
      },
      "source": [
        "## 2. DATA PREPARATION "
      ]
    },
    {
      "cell_type": "code",
      "metadata": {
        "id": "6VR0giutKYj4",
        "outputId": "eb98338a-d354-4362-8ad3-18ab6984eeaf"
      },
      "source": [
        "nltk.download('stopwords')\n",
        "\n",
        "from nltk.corpus import stopwords\n",
        "stop_words = set(stopwords.words('english'))"
      ],
      "execution_count": null,
      "outputs": [
        {
          "output_type": "stream",
          "text": [
            "[nltk_data] Downloading package stopwords to /home/marco/nltk_data...\n",
            "[nltk_data]   Package stopwords is already up-to-date!\n"
          ],
          "name": "stderr"
        }
      ]
    },
    {
      "cell_type": "code",
      "metadata": {
        "id": "gyCVQY5vKYj6"
      },
      "source": [
        "# function for text cleaning \n",
        "def preprocess_text(text):\n",
        "    text = text.lower() # lowercase\n",
        "    text = re.sub(r\"what's\", \"what is \", text)\n",
        "    text = re.sub(r\"\\'s\", \" \", text)\n",
        "    text = re.sub(r\"\\'ve\", \" have \", text)\n",
        "    text = re.sub(r\"can't\", \"can not \", text)\n",
        "    text = re.sub(r\"n't\", \" not \", text)\n",
        "    text = re.sub(r\"i'm\", \"i am \", text)\n",
        "    text = re.sub(r\"\\'re\", \" are \", text)\n",
        "    text = re.sub(r\"\\'d\", \" would \", text)\n",
        "    text = re.sub(r\"\\'ll\", \" will \", text)\n",
        "    text = re.sub(r\"\\'scuse\", \" excuse \", text)\n",
        "    text = re.sub(r\"\\'\\n\", \" \", text) #line breaks\n",
        "    #text = re.sub(r\"\\'\\xa0\", \" \", text) # xa0 Unicode representing spaces\n",
        "    #text = re.sub('\\s+', ' ', text) # one or more whitespace characters\n",
        "    text = text.strip(' ') # spaces\n",
        "    # remove backslash-apostrophe \n",
        "    text = re.sub(\"\\'\", \"\", text) \n",
        "    # remove everything except alphabets \n",
        "    text = re.sub(\"[^a-zA-Z]\",\" \",text) \n",
        "    #lemmatize and remove stopwords\n",
        "    no_stopword_text = [w for w in text.split() if not w in stop_words]\n",
        "    text = ' '.join(no_stopword_text) \n",
        "        \n",
        "    return text\n",
        "\n",
        "train['clean_plot'] = train['synopsis'].apply(lambda x: preprocess_text(x))\n",
        "test['clean_plot'] = test['synopsis'].apply(lambda x: preprocess_text(x))"
      ],
      "execution_count": null,
      "outputs": []
    },
    {
      "cell_type": "code",
      "metadata": {
        "id": "bVZgxGSvKYj7"
      },
      "source": [
        "def lemma(text): # Lemmatization of cleaned body\n",
        "        sent = TextBlob(text)\n",
        "        tag_dict = {\"J\": 'a', \n",
        "                    \"N\": 'n', \n",
        "                    \"V\": 'v', \n",
        "                    \"R\": 'r'}\n",
        "        words_and_tags = [(w, tag_dict.get(pos[0], 'n')) for w, pos in sent.tags]    \n",
        "        lemmatized_list = [wd.lemmatize(tag) for wd, tag in words_and_tags]\n",
        "        seperator=' '\n",
        "        lemma = seperator.join(lemmatized_list) \n",
        "        return lemma"
      ],
      "execution_count": null,
      "outputs": []
    },
    {
      "cell_type": "code",
      "metadata": {
        "id": "1WH56R_3KYj8"
      },
      "source": [
        "train['lemma'] = train['clean_plot'].apply(lambda x: lemma(x))\n",
        "test['lemma'] = test['clean_plot'].apply(lambda x: lemma(x))"
      ],
      "execution_count": null,
      "outputs": []
    },
    {
      "cell_type": "markdown",
      "metadata": {
        "id": "xuQ9oPsdKYj8"
      },
      "source": [
        "## 3. Variables preparation "
      ]
    },
    {
      "cell_type": "code",
      "metadata": {
        "id": "Gr7fpzedKYj-"
      },
      "source": [
        "\n",
        "X = train['lemma']\n",
        "\n",
        "X_test = test['lemma']    "
      ],
      "execution_count": null,
      "outputs": []
    },
    {
      "cell_type": "markdown",
      "metadata": {
        "id": "D4CZNNpAKYj_"
      },
      "source": [
        "### 3.1 Target variable one hot encoding"
      ]
    },
    {
      "cell_type": "code",
      "metadata": {
        "id": "dWWX0lWkKYj_"
      },
      "source": [
        "#apply the onehot transformation for the genres vector\n",
        "y = train['genres']\n",
        "one_hot = MultiLabelBinarizer() # encoder for the  tags \n",
        "y_onehot = one_hot.fit_transform(y.str.split(' ')) \n",
        "y_bin = pd.DataFrame(y_onehot, columns=one_hot.classes_ ) # transform it to Pandas object"
      ],
      "execution_count": null,
      "outputs": []
    },
    {
      "cell_type": "code",
      "metadata": {
        "id": "GXnL0mu5KYkA"
      },
      "source": [
        "# tokenize\n",
        "max_features = 5000\n",
        "tokenizer = Tokenizer(num_words=max_features)\n",
        "tokenizer.fit_on_texts(list(X))\n",
        "list_tokenized_train = tokenizer.texts_to_sequences(X)\n",
        "list_tokenized_test = tokenizer.texts_to_sequences(X_test)"
      ],
      "execution_count": null,
      "outputs": []
    },
    {
      "cell_type": "code",
      "metadata": {
        "id": "O2DFBo8tKYkA"
      },
      "source": [
        "#fix max comment lenght\n",
        "maxlen = 100\n",
        "X_t = pad_sequences(list_tokenized_train, maxlen=maxlen)\n",
        "X_te = pad_sequences(list_tokenized_test, maxlen=maxlen)"
      ],
      "execution_count": null,
      "outputs": []
    },
    {
      "cell_type": "markdown",
      "metadata": {
        "id": "dIJrNQ9dKYkA"
      },
      "source": [
        "## 4.The Model"
      ]
    },
    {
      "cell_type": "code",
      "metadata": {
        "id": "boheaXGPISCm"
      },
      "source": [
        "#initialize parameters\n",
        "inp = Input(shape=(maxlen, )) #maxlen defined earlier\n",
        "embed_size = 128"
      ],
      "execution_count": null,
      "outputs": []
    },
    {
      "cell_type": "code",
      "metadata": {
        "id": "BGz6T6XPKYkB"
      },
      "source": [
        "# Neural network backbone\n",
        "x = Embedding(max_features, embed_size)(inp)\n",
        "\n",
        "x = LSTM(64, return_sequences=True,name='lstm_layer')(x)\n",
        "\n",
        "x = GlobalMaxPool1D()(x)\n",
        "x = Dropout(0.1)(x)\n",
        "x = Dense(50, activation=\"relu\")(x)\n",
        "x = Dropout(0.1)(x)\n",
        "x = Dense(len(y_bin.columns), activation=\"softmax\")(x)"
      ],
      "execution_count": null,
      "outputs": []
    },
    {
      "cell_type": "code",
      "metadata": {
        "id": "BhHDmhNTKYkB"
      },
      "source": [
        "# build the model\n",
        "model = Model(inputs=inp, outputs=x)\n",
        "model.compile(loss='binary_crossentropy',\n",
        "                  optimizer='adam',\n",
        "                  metrics=['accuracy'])"
      ],
      "execution_count": null,
      "outputs": []
    },
    {
      "cell_type": "code",
      "metadata": {
        "id": "MImoilb7KYkB",
        "outputId": "48f5c3fd-6a8a-4c8d-8883-39a4875cb390"
      },
      "source": [
        "# train the model\n",
        "batch_size = 16\n",
        "epochs = 3\n",
        "\n",
        "hist = model.fit(X_t,y_onehot, batch_size=batch_size, epochs=epochs, validation_split=0.1)\n"
      ],
      "execution_count": null,
      "outputs": [
        {
          "output_type": "stream",
          "text": [
            "Epoch 1/3\n",
            "2055/2055 [==============================] - 64s 31ms/step - loss: 0.2662 - accuracy: 0.3807 - val_loss: 0.2400 - val_accuracy: 0.4573\n",
            "Epoch 2/3\n",
            "2055/2055 [==============================] - 60s 29ms/step - loss: 0.2282 - accuracy: 0.4693 - val_loss: 0.2286 - val_accuracy: 0.4625\n",
            "Epoch 3/3\n",
            "2055/2055 [==============================] - 61s 30ms/step - loss: 0.2137 - accuracy: 0.5011 - val_loss: 0.2276 - val_accuracy: 0.4600\n"
          ],
          "name": "stdout"
        }
      ]
    },
    {
      "cell_type": "markdown",
      "metadata": {
        "id": "b08G7DVcKYkB"
      },
      "source": [
        "## 5.The prediction"
      ]
    },
    {
      "cell_type": "code",
      "metadata": {
        "id": "zNSUxqseKYkC",
        "outputId": "77627d9a-4bcf-4021-ff8b-53dea0daaba0"
      },
      "source": [
        "y_pred = model.predict(X_te, batch_size=batch_size, verbose=1)\n",
        "print(y_pred.shape)"
      ],
      "execution_count": null,
      "outputs": [
        {
          "output_type": "stream",
          "text": [
            "329/329 [==============================] - 2s 7ms/step\n",
            "(5250, 19)\n"
          ],
          "name": "stdout"
        }
      ]
    },
    {
      "cell_type": "code",
      "metadata": {
        "id": "iv-d9wLIKYkC",
        "outputId": "7778c371-89ba-4740-8de7-8ea52db24572"
      },
      "source": [
        "df_probs_all = pd.DataFrame(y_pred,columns=y_bin.columns)\n",
        "\n",
        "df_probs_all.head()"
      ],
      "execution_count": null,
      "outputs": [
        {
          "output_type": "execute_result",
          "data": {
            "text/html": [
              "<div>\n",
              "<style scoped>\n",
              "    .dataframe tbody tr th:only-of-type {\n",
              "        vertical-align: middle;\n",
              "    }\n",
              "\n",
              "    .dataframe tbody tr th {\n",
              "        vertical-align: top;\n",
              "    }\n",
              "\n",
              "    .dataframe thead th {\n",
              "        text-align: right;\n",
              "    }\n",
              "</style>\n",
              "<table border=\"1\" class=\"dataframe\">\n",
              "  <thead>\n",
              "    <tr style=\"text-align: right;\">\n",
              "      <th></th>\n",
              "      <th>Action</th>\n",
              "      <th>Adventure</th>\n",
              "      <th>Animation</th>\n",
              "      <th>Children</th>\n",
              "      <th>Comedy</th>\n",
              "      <th>Crime</th>\n",
              "      <th>Documentary</th>\n",
              "      <th>Drama</th>\n",
              "      <th>Fantasy</th>\n",
              "      <th>Film-Noir</th>\n",
              "      <th>Horror</th>\n",
              "      <th>IMAX</th>\n",
              "      <th>Musical</th>\n",
              "      <th>Mystery</th>\n",
              "      <th>Romance</th>\n",
              "      <th>Sci-Fi</th>\n",
              "      <th>Thriller</th>\n",
              "      <th>War</th>\n",
              "      <th>Western</th>\n",
              "    </tr>\n",
              "  </thead>\n",
              "  <tbody>\n",
              "    <tr>\n",
              "      <th>0</th>\n",
              "      <td>0.153458</td>\n",
              "      <td>0.193579</td>\n",
              "      <td>0.093476</td>\n",
              "      <td>0.058507</td>\n",
              "      <td>0.073517</td>\n",
              "      <td>0.005869</td>\n",
              "      <td>0.012124</td>\n",
              "      <td>0.058732</td>\n",
              "      <td>0.061029</td>\n",
              "      <td>0.000154</td>\n",
              "      <td>0.041969</td>\n",
              "      <td>0.009908</td>\n",
              "      <td>0.002006</td>\n",
              "      <td>0.008534</td>\n",
              "      <td>0.011478</td>\n",
              "      <td>0.154150</td>\n",
              "      <td>0.052170</td>\n",
              "      <td>0.005598</td>\n",
              "      <td>0.003740</td>\n",
              "    </tr>\n",
              "    <tr>\n",
              "      <th>1</th>\n",
              "      <td>0.223497</td>\n",
              "      <td>0.101688</td>\n",
              "      <td>0.009904</td>\n",
              "      <td>0.007503</td>\n",
              "      <td>0.040107</td>\n",
              "      <td>0.014141</td>\n",
              "      <td>0.073879</td>\n",
              "      <td>0.177815</td>\n",
              "      <td>0.009369</td>\n",
              "      <td>0.000302</td>\n",
              "      <td>0.024966</td>\n",
              "      <td>0.004687</td>\n",
              "      <td>0.000553</td>\n",
              "      <td>0.008947</td>\n",
              "      <td>0.005353</td>\n",
              "      <td>0.141232</td>\n",
              "      <td>0.138839</td>\n",
              "      <td>0.016359</td>\n",
              "      <td>0.000859</td>\n",
              "    </tr>\n",
              "    <tr>\n",
              "      <th>2</th>\n",
              "      <td>0.004208</td>\n",
              "      <td>0.004079</td>\n",
              "      <td>0.004338</td>\n",
              "      <td>0.001711</td>\n",
              "      <td>0.032020</td>\n",
              "      <td>0.002470</td>\n",
              "      <td>0.805717</td>\n",
              "      <td>0.111827</td>\n",
              "      <td>0.001297</td>\n",
              "      <td>0.000026</td>\n",
              "      <td>0.003374</td>\n",
              "      <td>0.000335</td>\n",
              "      <td>0.006187</td>\n",
              "      <td>0.002372</td>\n",
              "      <td>0.004732</td>\n",
              "      <td>0.004332</td>\n",
              "      <td>0.007658</td>\n",
              "      <td>0.003286</td>\n",
              "      <td>0.000032</td>\n",
              "    </tr>\n",
              "    <tr>\n",
              "      <th>3</th>\n",
              "      <td>0.072988</td>\n",
              "      <td>0.059212</td>\n",
              "      <td>0.032437</td>\n",
              "      <td>0.021755</td>\n",
              "      <td>0.063514</td>\n",
              "      <td>0.004167</td>\n",
              "      <td>0.001259</td>\n",
              "      <td>0.038086</td>\n",
              "      <td>0.066671</td>\n",
              "      <td>0.000185</td>\n",
              "      <td>0.325496</td>\n",
              "      <td>0.002237</td>\n",
              "      <td>0.000266</td>\n",
              "      <td>0.016921</td>\n",
              "      <td>0.009685</td>\n",
              "      <td>0.161812</td>\n",
              "      <td>0.122468</td>\n",
              "      <td>0.000339</td>\n",
              "      <td>0.000502</td>\n",
              "    </tr>\n",
              "    <tr>\n",
              "      <th>4</th>\n",
              "      <td>0.053394</td>\n",
              "      <td>0.007850</td>\n",
              "      <td>0.001079</td>\n",
              "      <td>0.001782</td>\n",
              "      <td>0.059151</td>\n",
              "      <td>0.238846</td>\n",
              "      <td>0.033053</td>\n",
              "      <td>0.297398</td>\n",
              "      <td>0.001552</td>\n",
              "      <td>0.017946</td>\n",
              "      <td>0.016155</td>\n",
              "      <td>0.000483</td>\n",
              "      <td>0.001904</td>\n",
              "      <td>0.059151</td>\n",
              "      <td>0.016429</td>\n",
              "      <td>0.003443</td>\n",
              "      <td>0.183221</td>\n",
              "      <td>0.004662</td>\n",
              "      <td>0.002502</td>\n",
              "    </tr>\n",
              "  </tbody>\n",
              "</table>\n",
              "</div>"
            ],
            "text/plain": [
              "     Action  Adventure  Animation  Children    Comedy     Crime  Documentary  \\\n",
              "0  0.153458   0.193579   0.093476  0.058507  0.073517  0.005869     0.012124   \n",
              "1  0.223497   0.101688   0.009904  0.007503  0.040107  0.014141     0.073879   \n",
              "2  0.004208   0.004079   0.004338  0.001711  0.032020  0.002470     0.805717   \n",
              "3  0.072988   0.059212   0.032437  0.021755  0.063514  0.004167     0.001259   \n",
              "4  0.053394   0.007850   0.001079  0.001782  0.059151  0.238846     0.033053   \n",
              "\n",
              "      Drama   Fantasy  Film-Noir    Horror      IMAX   Musical   Mystery  \\\n",
              "0  0.058732  0.061029   0.000154  0.041969  0.009908  0.002006  0.008534   \n",
              "1  0.177815  0.009369   0.000302  0.024966  0.004687  0.000553  0.008947   \n",
              "2  0.111827  0.001297   0.000026  0.003374  0.000335  0.006187  0.002372   \n",
              "3  0.038086  0.066671   0.000185  0.325496  0.002237  0.000266  0.016921   \n",
              "4  0.297398  0.001552   0.017946  0.016155  0.000483  0.001904  0.059151   \n",
              "\n",
              "    Romance    Sci-Fi  Thriller       War   Western  \n",
              "0  0.011478  0.154150  0.052170  0.005598  0.003740  \n",
              "1  0.005353  0.141232  0.138839  0.016359  0.000859  \n",
              "2  0.004732  0.004332  0.007658  0.003286  0.000032  \n",
              "3  0.009685  0.161812  0.122468  0.000339  0.000502  \n",
              "4  0.016429  0.003443  0.183221  0.004662  0.002502  "
            ]
          },
          "metadata": {
            "tags": []
          },
          "execution_count": 17
        }
      ]
    },
    {
      "cell_type": "code",
      "metadata": {
        "id": "9LUEKZY3KYkD"
      },
      "source": [
        "def top_5_predictions(df):\n",
        "    N = 5\n",
        "    cols = df.columns[:-1].tolist()\n",
        "    a = df[cols].to_numpy().argsort()[:, :-N-1:-1]\n",
        "    c = np.array(cols)[a]\n",
        "    d = df[cols].to_numpy()[np.arange(a.shape[0])[:, None], a]\n",
        "    df1 = pd.DataFrame(c).rename(columns=lambda x : f'max_{x+1}_col')\n",
        "\n",
        "    predicted_genres = df1[\"max_1_col\"] + ' ' + df1[\"max_2_col\"]+ ' ' +df1[\"max_3_col\"]+ ' ' + df1[\"max_4_col\"]+ ' '+df1[\"max_5_col\"]\n",
        "    return predicted_genres"
      ],
      "execution_count": null,
      "outputs": []
    },
    {
      "cell_type": "code",
      "metadata": {
        "id": "ZeMDdR3yKYkD"
      },
      "source": [
        "pred_gen = top_5_predictions(df_probs_all)"
      ],
      "execution_count": null,
      "outputs": []
    },
    {
      "cell_type": "code",
      "metadata": {
        "id": "-gUP_0SUKYkE"
      },
      "source": [
        "submission = pd.DataFrame(data= {'movie_id':test.movie_id,'predicted_genres':pred_gen})"
      ],
      "execution_count": null,
      "outputs": []
    },
    {
      "cell_type": "code",
      "metadata": {
        "id": "_CU0dBD6KYkE",
        "outputId": "832acb14-d0e0-48c5-ad61-4b9ac4e271c8"
      },
      "source": [
        "submission.head()"
      ],
      "execution_count": null,
      "outputs": [
        {
          "output_type": "execute_result",
          "data": {
            "text/html": [
              "<div>\n",
              "<style scoped>\n",
              "    .dataframe tbody tr th:only-of-type {\n",
              "        vertical-align: middle;\n",
              "    }\n",
              "\n",
              "    .dataframe tbody tr th {\n",
              "        vertical-align: top;\n",
              "    }\n",
              "\n",
              "    .dataframe thead th {\n",
              "        text-align: right;\n",
              "    }\n",
              "</style>\n",
              "<table border=\"1\" class=\"dataframe\">\n",
              "  <thead>\n",
              "    <tr style=\"text-align: right;\">\n",
              "      <th></th>\n",
              "      <th>movie_id</th>\n",
              "      <th>predicted_genres</th>\n",
              "    </tr>\n",
              "  </thead>\n",
              "  <tbody>\n",
              "    <tr>\n",
              "      <th>0</th>\n",
              "      <td>10827</td>\n",
              "      <td>Adventure Sci-Fi Action Animation Comedy</td>\n",
              "    </tr>\n",
              "    <tr>\n",
              "      <th>1</th>\n",
              "      <td>51768</td>\n",
              "      <td>Action Drama Sci-Fi Thriller Adventure</td>\n",
              "    </tr>\n",
              "    <tr>\n",
              "      <th>2</th>\n",
              "      <td>36064</td>\n",
              "      <td>Documentary Drama Comedy Thriller Musical</td>\n",
              "    </tr>\n",
              "    <tr>\n",
              "      <th>3</th>\n",
              "      <td>33763</td>\n",
              "      <td>Horror Sci-Fi Thriller Action Fantasy</td>\n",
              "    </tr>\n",
              "    <tr>\n",
              "      <th>4</th>\n",
              "      <td>1146</td>\n",
              "      <td>Drama Crime Thriller Comedy Mystery</td>\n",
              "    </tr>\n",
              "  </tbody>\n",
              "</table>\n",
              "</div>"
            ],
            "text/plain": [
              "   movie_id                           predicted_genres\n",
              "0     10827   Adventure Sci-Fi Action Animation Comedy\n",
              "1     51768     Action Drama Sci-Fi Thriller Adventure\n",
              "2     36064  Documentary Drama Comedy Thriller Musical\n",
              "3     33763      Horror Sci-Fi Thriller Action Fantasy\n",
              "4      1146        Drama Crime Thriller Comedy Mystery"
            ]
          },
          "metadata": {
            "tags": []
          },
          "execution_count": 21
        }
      ]
    },
    {
      "cell_type": "code",
      "metadata": {
        "id": "1-qDXoryKYkE"
      },
      "source": [
        "submission.to_csv('submission.csv',index=False)"
      ],
      "execution_count": null,
      "outputs": []
    }
  ]
}